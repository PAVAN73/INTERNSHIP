{
 "cells": [
  {
   "cell_type": "markdown",
   "metadata": {},
   "source": [
    "# 11 Write a program to find the factorial of a number"
   ]
  },
  {
   "cell_type": "code",
   "execution_count": 8,
   "metadata": {},
   "outputs": [
    {
     "name": "stdout",
     "output_type": "stream",
     "text": [
      "Factorial of 6 is 720\n"
     ]
    }
   ],
   "source": [
    "import math\n",
    "def factorial (n):\n",
    "    return(math.factorial(n))\n",
    "num=6\n",
    "print(\"Factorial of\",num,\"is\",factorial(num))"
   ]
  },
  {
   "cell_type": "markdown",
   "metadata": {},
   "source": [
    "# 12 Write a phyton program to find wheather a number is prime or composite"
   ]
  },
  {
   "cell_type": "code",
   "execution_count": 14,
   "metadata": {},
   "outputs": [
    {
     "name": "stdout",
     "output_type": "stream",
     "text": [
      "9 is a composite number\n"
     ]
    }
   ],
   "source": [
    "num=9\n",
    "# If the giver number is greater than 1 \n",
    "if num>1:\n",
    "    #iterate from 2 to n/2\n",
    "    for i in range(2,int(num/2)+1):\n",
    "        \n",
    "        #2 and n/2 it is composite\n",
    "        if (num%i)==0:\n",
    "            print(num,\"is a composite number\")\n",
    "            break \n",
    "    else:\n",
    "        print(num,\"is a prime number \")\n",
    "else:\n",
    "         print(num,\"is a composite number \")"
   ]
  },
  {
   "cell_type": "code",
   "execution_count": 16,
   "metadata": {},
   "outputs": [
    {
     "name": "stdout",
     "output_type": "stream",
     "text": [
      "11 is a prime number \n"
     ]
    }
   ],
   "source": [
    "num=11\n",
    "# If the giver number is greater than 1 \n",
    "if num>1:\n",
    "    #iterate from 2 to n/2\n",
    "    for i in range(2,int(num/2)+1):\n",
    "        \n",
    "\n",
    "        #2 and n/2 it is composite\n",
    "        if (num%i)==0:\n",
    "            print(num,\"is a composite number\")\n",
    "            break \n",
    "    else:\n",
    "        print(num,\"is a prime number \")\n",
    "else:\n",
    "         print(num,\"is a composite number \")"
   ]
  },
  {
   "cell_type": "markdown",
   "metadata": {},
   "source": [
    "# 13 write a phyton program to check wheather a given string is palindrome or not"
   ]
  },
  {
   "cell_type": "code",
   "execution_count": 32,
   "metadata": {},
   "outputs": [
    {
     "name": "stdout",
     "output_type": "stream",
     "text": [
      "The string is a palindrome.\n"
     ]
    }
   ],
   "source": [
    "my_str=\"aibohphoBiA\"\n",
    "my_str= my_str.casefold()\n",
    "#reverse the string \n",
    "rev_str=reversed (my_str)\n",
    "# check if the string is equal to its reverse\n",
    "if list(my_str)==list(rev_str):\n",
    "    print(\"The string is a palindrome.\")\n",
    "else:\n",
    "    print(\"the string is not a palindrome.\")"
   ]
  },
  {
   "cell_type": "code",
   "execution_count": 33,
   "metadata": {},
   "outputs": [
    {
     "name": "stdout",
     "output_type": "stream",
     "text": [
      "the string is not a palindrome.\n"
     ]
    }
   ],
   "source": [
    "my_str=\"PavaNkumaR\"\n",
    "my_str= my_str.casefold()\n",
    "#reverse the string \n",
    "rev_str=reversed (my_str)\n",
    "# check if the string is equal to its reverse\n",
    "if list(my_str)==list(rev_str):\n",
    "    print(\"The string is a palindrome.\")\n",
    "else:\n",
    "    print(\"the string is not a palindrome.\")"
   ]
  },
  {
   "cell_type": "markdown",
   "metadata": {},
   "source": [
    "# 14 write a phyton program to get the third side of right angled triangle from two given sides "
   ]
  },
  {
   "cell_type": "code",
   "execution_count": 34,
   "metadata": {},
   "outputs": [
    {
     "name": "stdout",
     "output_type": "stream",
     "text": [
      "enter a base: 56\n",
      "enter height: 89\n",
      "enter angle: 70\n",
      "Hypotenuse= 105.152270541344\n"
     ]
    }
   ],
   "source": [
    "import math \n",
    "a=float(input(\"enter a base: \"))\n",
    "b=float(input(\"enter height: \"))\n",
    "x=float(input(\"enter angle: \"))\n",
    "c=math.sqrt(a**2+b**2)\n",
    "print(\"Hypotenuse=\",c)"
   ]
  },
  {
   "cell_type": "markdown",
   "metadata": {},
   "source": [
    "# 15 write a phyton program to print the frequency of each of the characters present in a given string"
   ]
  },
  {
   "cell_type": "code",
   "execution_count": 6,
   "metadata": {},
   "outputs": [
    {
     "name": "stdout",
     "output_type": "stream",
     "text": [
      "enter a string=pen\n",
      "p,1\n",
      "p,1\n",
      "p,1\n",
      "e,0\n",
      "e,1\n",
      "e,1\n",
      "n,0\n",
      "n,0\n",
      "n,1\n"
     ]
    }
   ],
   "source": [
    "string=input(\"enter a string=\")\n",
    "str1=list(string)\n",
    "strlist=[]\n",
    "for j in str1:\n",
    "    if j not in strlist:\n",
    "        strlist.append(j)\n",
    "        count=0\n",
    "        \n",
    "        for i in range(len(str1)):\n",
    "            if j==str1[i]:\n",
    "                count+=1\n",
    "            print(\"{},{}\".format(j,count))"
   ]
  },
  {
   "cell_type": "code",
   "execution_count": null,
   "metadata": {},
   "outputs": [],
   "source": []
  },
  {
   "cell_type": "code",
   "execution_count": null,
   "metadata": {},
   "outputs": [],
   "source": []
  },
  {
   "cell_type": "code",
   "execution_count": null,
   "metadata": {},
   "outputs": [],
   "source": []
  },
  {
   "cell_type": "code",
   "execution_count": null,
   "metadata": {},
   "outputs": [],
   "source": []
  },
  {
   "cell_type": "code",
   "execution_count": null,
   "metadata": {},
   "outputs": [],
   "source": []
  },
  {
   "cell_type": "code",
   "execution_count": null,
   "metadata": {},
   "outputs": [],
   "source": []
  }
 ],
 "metadata": {
  "kernelspec": {
   "display_name": "Python 3",
   "language": "python",
   "name": "python3"
  },
  "language_info": {
   "codemirror_mode": {
    "name": "ipython",
    "version": 3
   },
   "file_extension": ".py",
   "mimetype": "text/x-python",
   "name": "python",
   "nbconvert_exporter": "python",
   "pygments_lexer": "ipython3",
   "version": "3.8.5"
  }
 },
 "nbformat": 4,
 "nbformat_minor": 4
}
